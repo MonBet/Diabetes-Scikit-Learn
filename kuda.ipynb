{
 "cells": [
  {
   "cell_type": "code",
   "execution_count": 1,
   "metadata": {},
   "outputs": [
    {
     "name": "stderr",
     "output_type": "stream",
     "text": [
      "/home/sakuragi/.local/lib/python3.6/site-packages/sklearn/externals/joblib/__init__.py:15: DeprecationWarning: sklearn.externals.joblib is deprecated in 0.21 and will be removed in 0.23. Please import this functionality directly from joblib, which can be installed with: pip install joblib. If this warning is raised when loading pickled models, you may need to re-serialize those models with scikit-learn 0.21+.\n",
      "  warnings.warn(msg, category=DeprecationWarning)\n"
     ]
    }
   ],
   "source": [
    "import pickle\n",
    "import numpy as np\n",
    "import pandas as pd\n",
    "from sklearn.externals import joblib\n",
    "from sklearn import svm\n",
    "from sklearn.model_selection import train_test_split \n",
    "from sklearn.model_selection import cross_validate\n",
    "from sklearn.metrics import precision_recall_fscore_support\n",
    "from sklearn.metrics import accuracy_score\n",
    "from sklearn.metrics import recall_score\n",
    "from sklearn.metrics import precision_score\n",
    "from sklearn.metrics import f1_score\n",
    "from sklearn.metrics import confusion_matrix"
   ]
  },
  {
   "cell_type": "code",
   "execution_count": 2,
   "metadata": {},
   "outputs": [],
   "source": [
    "#Read CSV, index+1 supaya index dimulai dari 1, tidak 0, memudahkan pembacaan dataframe dibawah.\n",
    "df = pd.read_csv('diabetes.csv')\n",
    "df.index += 1"
   ]
  },
  {
   "cell_type": "code",
   "execution_count": 3,
   "metadata": {},
   "outputs": [
    {
     "data": {
      "text/html": [
       "<div>\n",
       "<style scoped>\n",
       "    .dataframe tbody tr th:only-of-type {\n",
       "        vertical-align: middle;\n",
       "    }\n",
       "\n",
       "    .dataframe tbody tr th {\n",
       "        vertical-align: top;\n",
       "    }\n",
       "\n",
       "    .dataframe thead th {\n",
       "        text-align: right;\n",
       "    }\n",
       "</style>\n",
       "<table border=\"1\" class=\"dataframe\">\n",
       "  <thead>\n",
       "    <tr style=\"text-align: right;\">\n",
       "      <th></th>\n",
       "      <th>preg</th>\n",
       "      <th>plas</th>\n",
       "      <th>pres</th>\n",
       "      <th>skin</th>\n",
       "      <th>test</th>\n",
       "      <th>mass</th>\n",
       "      <th>pedi</th>\n",
       "      <th>age</th>\n",
       "      <th>diabetes</th>\n",
       "    </tr>\n",
       "  </thead>\n",
       "  <tbody>\n",
       "    <tr>\n",
       "      <td>1</td>\n",
       "      <td>6</td>\n",
       "      <td>148</td>\n",
       "      <td>72</td>\n",
       "      <td>35</td>\n",
       "      <td>0</td>\n",
       "      <td>33.6</td>\n",
       "      <td>0.627</td>\n",
       "      <td>50</td>\n",
       "      <td>1</td>\n",
       "    </tr>\n",
       "    <tr>\n",
       "      <td>2</td>\n",
       "      <td>1</td>\n",
       "      <td>85</td>\n",
       "      <td>66</td>\n",
       "      <td>29</td>\n",
       "      <td>0</td>\n",
       "      <td>26.6</td>\n",
       "      <td>0.351</td>\n",
       "      <td>31</td>\n",
       "      <td>0</td>\n",
       "    </tr>\n",
       "    <tr>\n",
       "      <td>3</td>\n",
       "      <td>8</td>\n",
       "      <td>183</td>\n",
       "      <td>64</td>\n",
       "      <td>0</td>\n",
       "      <td>0</td>\n",
       "      <td>23.3</td>\n",
       "      <td>0.672</td>\n",
       "      <td>32</td>\n",
       "      <td>1</td>\n",
       "    </tr>\n",
       "    <tr>\n",
       "      <td>4</td>\n",
       "      <td>1</td>\n",
       "      <td>89</td>\n",
       "      <td>66</td>\n",
       "      <td>23</td>\n",
       "      <td>94</td>\n",
       "      <td>28.1</td>\n",
       "      <td>0.167</td>\n",
       "      <td>21</td>\n",
       "      <td>0</td>\n",
       "    </tr>\n",
       "    <tr>\n",
       "      <td>5</td>\n",
       "      <td>0</td>\n",
       "      <td>137</td>\n",
       "      <td>40</td>\n",
       "      <td>35</td>\n",
       "      <td>168</td>\n",
       "      <td>43.1</td>\n",
       "      <td>2.288</td>\n",
       "      <td>33</td>\n",
       "      <td>1</td>\n",
       "    </tr>\n",
       "  </tbody>\n",
       "</table>\n",
       "</div>"
      ],
      "text/plain": [
       "   preg  plas  pres  skin  test  mass   pedi  age  diabetes\n",
       "1     6   148    72    35     0  33.6  0.627   50         1\n",
       "2     1    85    66    29     0  26.6  0.351   31         0\n",
       "3     8   183    64     0     0  23.3  0.672   32         1\n",
       "4     1    89    66    23    94  28.1  0.167   21         0\n",
       "5     0   137    40    35   168  43.1  2.288   33         1"
      ]
     },
     "execution_count": 3,
     "metadata": {},
     "output_type": "execute_result"
    }
   ],
   "source": [
    "#melihat dataframe diabetes.csv\n",
    "df.head()"
   ]
  },
  {
   "cell_type": "code",
   "execution_count": 4,
   "metadata": {},
   "outputs": [],
   "source": [
    "#target / label. Kolom terakhir/kolom 'diabetes'.\n",
    "#mengambil dataframe untuk disimpan menjadi array. \n",
    "#np_target = df.iloc[:,-1:].values #alternatif\n",
    "np_target = df['diabetes'].values"
   ]
  },
  {
   "cell_type": "code",
   "execution_count": 5,
   "metadata": {},
   "outputs": [],
   "source": [
    "#Features. Mengambil kolom 1 - 8 dengan mengakses index. \n",
    "np_data = df.iloc[:,:-1].values"
   ]
  },
  {
   "cell_type": "code",
   "execution_count": 6,
   "metadata": {},
   "outputs": [],
   "source": [
    "#Support Vector Classification model\n",
    "clf = svm.SVC(kernel='linear', gamma=0.001, C=100)"
   ]
  },
  {
   "cell_type": "code",
   "execution_count": 7,
   "metadata": {},
   "outputs": [],
   "source": [
    "#Split dataset, 20% testing 80% training.\n",
    "X_train, X_test, y_train, y_test = train_test_split(np_data,np_target,test_size=0.2, random_state=None)"
   ]
  },
  {
   "cell_type": "code",
   "execution_count": 8,
   "metadata": {},
   "outputs": [
    {
     "data": {
      "text/plain": [
       "array([[1.000e+01, 1.480e+02, 8.400e+01, ..., 3.760e+01, 1.001e+00,\n",
       "        5.100e+01],\n",
       "       [1.300e+01, 1.520e+02, 9.000e+01, ..., 2.680e+01, 7.310e-01,\n",
       "        4.300e+01],\n",
       "       [1.000e+00, 1.090e+02, 5.800e+01, ..., 2.850e+01, 2.190e-01,\n",
       "        2.200e+01],\n",
       "       ...,\n",
       "       [3.000e+00, 1.580e+02, 7.600e+01, ..., 3.160e+01, 8.510e-01,\n",
       "        2.800e+01],\n",
       "       [3.000e+00, 9.900e+01, 5.400e+01, ..., 2.560e+01, 1.540e-01,\n",
       "        2.400e+01],\n",
       "       [8.000e+00, 1.050e+02, 1.000e+02, ..., 4.330e+01, 2.390e-01,\n",
       "        4.500e+01]])"
      ]
     },
     "execution_count": 8,
     "metadata": {},
     "output_type": "execute_result"
    }
   ],
   "source": [
    "X_train"
   ]
  },
  {
   "cell_type": "code",
   "execution_count": 9,
   "metadata": {},
   "outputs": [
    {
     "data": {
      "text/plain": [
       "(614, 154)"
      ]
     },
     "execution_count": 9,
     "metadata": {},
     "output_type": "execute_result"
    }
   ],
   "source": [
    "#Cuma buat liat ukuran data train vs data test\n",
    "len(X_train), len(X_test)"
   ]
  },
  {
   "cell_type": "code",
   "execution_count": 10,
   "metadata": {},
   "outputs": [
    {
     "data": {
      "text/plain": [
       "SVC(C=100, cache_size=200, class_weight=None, coef0=0.0,\n",
       "    decision_function_shape='ovr', degree=3, gamma=0.001, kernel='linear',\n",
       "    max_iter=-1, probability=False, random_state=None, shrinking=True,\n",
       "    tol=0.001, verbose=False)"
      ]
     },
     "execution_count": 10,
     "metadata": {},
     "output_type": "execute_result"
    }
   ],
   "source": [
    "#Fit model SVM sesuai data training (proses training model)\n",
    "clf.fit(X_train, y_train)"
   ]
  },
  {
   "cell_type": "code",
   "execution_count": 11,
   "metadata": {},
   "outputs": [],
   "source": [
    "#CrossValidation model yang sudah dibangun. Dengan parameter scoring=accuracy,precision, dan recall\n",
    "scoring = ['accuracy', 'precision', 'recall']\n",
    "scores = cross_validate(clf, X_test, y_test, scoring=scoring, cv=5, return_train_score=True)"
   ]
  },
  {
   "cell_type": "code",
   "execution_count": 12,
   "metadata": {},
   "outputs": [
    {
     "data": {
      "text/plain": [
       "{'fit_time': array([18.47057104,  8.19345355, 24.70905519, 50.10510302, 19.49726129]),\n",
       " 'score_time': array([0.00218058, 0.00207448, 0.00210571, 0.00207114, 0.00208282]),\n",
       " 'test_accuracy': array([0.58064516, 0.87096774, 0.70967742, 0.80645161, 0.73333333]),\n",
       " 'train_accuracy': array([0.80487805, 0.77235772, 0.80487805, 0.78861789, 0.79032258]),\n",
       " 'test_precision': array([0.375     , 0.76923077, 0.66666667, 0.69230769, 0.63636364]),\n",
       " 'train_precision': array([0.73809524, 0.71052632, 0.73809524, 0.73684211, 0.70454545]),\n",
       " 'test_recall': array([0.27272727, 0.90909091, 0.36363636, 0.81818182, 0.63636364]),\n",
       " 'train_recall': array([0.70454545, 0.61363636, 0.70454545, 0.63636364, 0.70454545])}"
      ]
     },
     "execution_count": 12,
     "metadata": {},
     "output_type": "execute_result"
    }
   ],
   "source": [
    "#Menampilkan hasil dari cross validation\n",
    "scores"
   ]
  },
  {
   "cell_type": "code",
   "execution_count": 13,
   "metadata": {},
   "outputs": [
    {
     "data": {
      "text/plain": [
       "array([0.58064516, 0.87096774, 0.70967742, 0.80645161, 0.73333333])"
      ]
     },
     "execution_count": 13,
     "metadata": {},
     "output_type": "execute_result"
    }
   ],
   "source": [
    "#menampilkan test_accuracy dari cross validation, memiliki 5 value, tiap value adalah representasi akurasi dari tiap iterasi\n",
    "scores['test_accuracy']"
   ]
  },
  {
   "cell_type": "code",
   "execution_count": 14,
   "metadata": {},
   "outputs": [
    {
     "data": {
      "text/html": [
       "<div>\n",
       "<style scoped>\n",
       "    .dataframe tbody tr th:only-of-type {\n",
       "        vertical-align: middle;\n",
       "    }\n",
       "\n",
       "    .dataframe tbody tr th {\n",
       "        vertical-align: top;\n",
       "    }\n",
       "\n",
       "    .dataframe thead th {\n",
       "        text-align: right;\n",
       "    }\n",
       "</style>\n",
       "<table border=\"1\" class=\"dataframe\">\n",
       "  <thead>\n",
       "    <tr style=\"text-align: right;\">\n",
       "      <th></th>\n",
       "      <th>fit_time</th>\n",
       "      <th>score_time</th>\n",
       "      <th>test_accuracy</th>\n",
       "      <th>train_accuracy</th>\n",
       "      <th>test_precision</th>\n",
       "      <th>train_precision</th>\n",
       "      <th>test_recall</th>\n",
       "      <th>train_recall</th>\n",
       "    </tr>\n",
       "  </thead>\n",
       "  <tbody>\n",
       "    <tr>\n",
       "      <td>1</td>\n",
       "      <td>18.470571</td>\n",
       "      <td>0.002181</td>\n",
       "      <td>0.580645</td>\n",
       "      <td>0.804878</td>\n",
       "      <td>0.375000</td>\n",
       "      <td>0.738095</td>\n",
       "      <td>0.272727</td>\n",
       "      <td>0.704545</td>\n",
       "    </tr>\n",
       "    <tr>\n",
       "      <td>2</td>\n",
       "      <td>8.193454</td>\n",
       "      <td>0.002074</td>\n",
       "      <td>0.870968</td>\n",
       "      <td>0.772358</td>\n",
       "      <td>0.769231</td>\n",
       "      <td>0.710526</td>\n",
       "      <td>0.909091</td>\n",
       "      <td>0.613636</td>\n",
       "    </tr>\n",
       "    <tr>\n",
       "      <td>3</td>\n",
       "      <td>24.709055</td>\n",
       "      <td>0.002106</td>\n",
       "      <td>0.709677</td>\n",
       "      <td>0.804878</td>\n",
       "      <td>0.666667</td>\n",
       "      <td>0.738095</td>\n",
       "      <td>0.363636</td>\n",
       "      <td>0.704545</td>\n",
       "    </tr>\n",
       "    <tr>\n",
       "      <td>4</td>\n",
       "      <td>50.105103</td>\n",
       "      <td>0.002071</td>\n",
       "      <td>0.806452</td>\n",
       "      <td>0.788618</td>\n",
       "      <td>0.692308</td>\n",
       "      <td>0.736842</td>\n",
       "      <td>0.818182</td>\n",
       "      <td>0.636364</td>\n",
       "    </tr>\n",
       "    <tr>\n",
       "      <td>5</td>\n",
       "      <td>19.497261</td>\n",
       "      <td>0.002083</td>\n",
       "      <td>0.733333</td>\n",
       "      <td>0.790323</td>\n",
       "      <td>0.636364</td>\n",
       "      <td>0.704545</td>\n",
       "      <td>0.636364</td>\n",
       "      <td>0.704545</td>\n",
       "    </tr>\n",
       "  </tbody>\n",
       "</table>\n",
       "</div>"
      ],
      "text/plain": [
       "    fit_time  score_time  test_accuracy  train_accuracy  test_precision  \\\n",
       "1  18.470571    0.002181       0.580645        0.804878        0.375000   \n",
       "2   8.193454    0.002074       0.870968        0.772358        0.769231   \n",
       "3  24.709055    0.002106       0.709677        0.804878        0.666667   \n",
       "4  50.105103    0.002071       0.806452        0.788618        0.692308   \n",
       "5  19.497261    0.002083       0.733333        0.790323        0.636364   \n",
       "\n",
       "   train_precision  test_recall  train_recall  \n",
       "1         0.738095     0.272727      0.704545  \n",
       "2         0.710526     0.909091      0.613636  \n",
       "3         0.738095     0.363636      0.704545  \n",
       "4         0.736842     0.818182      0.636364  \n",
       "5         0.704545     0.636364      0.704545  "
      ]
     },
     "execution_count": 14,
     "metadata": {},
     "output_type": "execute_result"
    }
   ],
   "source": [
    "#Hasil cross validation berupa dictionary. Kemudian dictionary disimpan menjadi dataframe. Hanya untuk keperluan pembacaan\n",
    "df_scores = pd.DataFrame.from_dict(scores)\n",
    "df_scores.index +=1\n",
    "df_scores"
   ]
  },
  {
   "cell_type": "code",
   "execution_count": 16,
   "metadata": {},
   "outputs": [
    {
     "data": {
      "text/plain": [
       "['praktikum1_svc.pkl']"
      ]
     },
     "execution_count": 16,
     "metadata": {},
     "output_type": "execute_result"
    }
   ],
   "source": [
    "#DUMP MODEL YANG SUDAH DIBUAT AGAR MENJADI MODEL PERSISTENCE DAN LANGSUNG DIGUNAKAN DITEMPAT LAIN.\n",
    "joblib.dump(clf, 'praktikum1_svc.pkl') "
   ]
  },
  {
   "cell_type": "code",
   "execution_count": 16,
   "metadata": {},
   "outputs": [],
   "source": [
    "pickle.dump(clf, open('model.pkl','wb'))"
   ]
  },
  {
   "cell_type": "code",
   "execution_count": null,
   "metadata": {},
   "outputs": [],
   "source": []
  }
 ],
 "metadata": {
  "kernelspec": {
   "display_name": "Python 3",
   "language": "python",
   "name": "python3"
  },
  "language_info": {
   "codemirror_mode": {
    "name": "ipython",
    "version": 3
   },
   "file_extension": ".py",
   "mimetype": "text/x-python",
   "name": "python",
   "nbconvert_exporter": "python",
   "pygments_lexer": "ipython3",
   "version": "3.6.8"
  }
 },
 "nbformat": 4,
 "nbformat_minor": 2
}
